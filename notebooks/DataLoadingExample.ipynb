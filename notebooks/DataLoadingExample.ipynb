{
 "cells": [
  {
   "cell_type": "code",
   "id": "initial_id",
   "metadata": {
    "collapsed": true,
    "ExecuteTime": {
     "end_time": "2024-07-27T06:22:10.547774Z",
     "start_time": "2024-07-27T06:22:10.544138Z"
    }
   },
   "source": [
    "import numpy as np\n",
    "from scripts.data_utils import load_data, get_random_split, augment_data, get_multiple_splits\n",
    "from scripts.augmentation_models import augmentaion_noise_jittering"
   ],
   "outputs": [],
   "execution_count": 8
  },
  {
   "metadata": {
    "ExecuteTime": {
     "end_time": "2024-07-27T06:21:06.735879Z",
     "start_time": "2024-07-27T06:21:06.461608Z"
    }
   },
   "cell_type": "code",
   "source": [
    "path_to_open, path_to_close = '../data/opened_ihb.npy', '../data/opened_ihb.npy'\n",
    "X, y, groups = load_data(path_to_open, path_to_close)\n",
    "X_train, X_test, y_train, y_test, train_groups, test_groups = get_random_split(X, y,groups, test_size=0.15)"
   ],
   "id": "e06b432f5bb9dfa1",
   "outputs": [],
   "execution_count": 5
  },
  {
   "metadata": {
    "ExecuteTime": {
     "end_time": "2024-07-27T06:22:47.386835Z",
     "start_time": "2024-07-27T06:22:46.553796Z"
    }
   },
   "cell_type": "code",
   "source": [
    "X_aug, y_aug, groups_aug, is_real_data = augment_data(augmentaion_noise_jittering,\n",
    "                                                                                   X,\n",
    "                                                                                   y,\n",
    "                                                                                   groups,\n",
    "                                                                                   n_aug=1)\n",
    "\n",
    "X_train, X_test, y_train, y_test, train_groups, test_groups = get_random_split(X_aug,\n",
    "                                                                               y_aug,\n",
    "                                                                               groups_aug,\n",
    "                                                                               is_real_data=is_real_data,\n",
    "                                                                               test_size=0.15)"
   ],
   "id": "a754bc9b0eed028c",
   "outputs": [],
   "execution_count": 10
  },
  {
   "metadata": {
    "ExecuteTime": {
     "end_time": "2024-07-27T06:23:23.004320Z",
     "start_time": "2024-07-27T06:23:22.556988Z"
    }
   },
   "cell_type": "code",
   "source": [
    "random_seeds = [42, 123, 456]\n",
    "splits_with_seeds = get_multiple_splits(X_aug, y_aug, groups_aug, is_real_data, test_size=0.2, random_seeds=random_seeds)"
   ],
   "id": "f5e38feb8b9b3a53",
   "outputs": [],
   "execution_count": 11
  },
  {
   "metadata": {},
   "cell_type": "code",
   "outputs": [],
   "execution_count": null,
   "source": "",
   "id": "607ba6b8bfbd9faa"
  }
 ],
 "metadata": {
  "kernelspec": {
   "display_name": "Python 3",
   "language": "python",
   "name": "python3"
  },
  "language_info": {
   "codemirror_mode": {
    "name": "ipython",
    "version": 2
   },
   "file_extension": ".py",
   "mimetype": "text/x-python",
   "name": "python",
   "nbconvert_exporter": "python",
   "pygments_lexer": "ipython2",
   "version": "2.7.6"
  }
 },
 "nbformat": 4,
 "nbformat_minor": 5
}
