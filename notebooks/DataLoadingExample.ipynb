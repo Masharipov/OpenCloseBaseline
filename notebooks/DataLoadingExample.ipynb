{
 "cells": [
  {
   "cell_type": "code",
   "execution_count": 1,
   "id": "51bf2b13",
   "metadata": {},
   "outputs": [
    {
     "name": "stdout",
     "output_type": "stream",
     "text": [
      "Python 3.10.12 (main, Mar 22 2024, 16:50:05) [GCC 11.4.0] on linux\n"
     ]
    }
   ],
   "source": [
    "import sys; print('Python %s on %s' % (sys.version, sys.platform))\n",
    "sys.path.extend(['../'])"
   ]
  },
  {
   "cell_type": "code",
   "execution_count": 2,
   "id": "initial_id",
   "metadata": {
    "ExecuteTime": {
     "end_time": "2024-07-27T06:22:10.547774Z",
     "start_time": "2024-07-27T06:22:10.544138Z"
    },
    "collapsed": true
   },
   "outputs": [],
   "source": [
    "import numpy as np\n",
    "from scripts.data_utils import load_data, get_random_split, augment_data, get_multiple_splits\n",
    "from scripts.augmentation_models import augmentaion_noise_jittering\n",
    "\n",
    "from scripts.classification_models import LogRegPCA\n",
    "import matplotlib.pyplot as plt\n",
    "import seaborn as sns"
   ]
  },
  {
   "cell_type": "code",
   "execution_count": 3,
   "id": "e06b432f5bb9dfa1",
   "metadata": {
    "ExecuteTime": {
     "end_time": "2024-07-27T06:21:06.735879Z",
     "start_time": "2024-07-27T06:21:06.461608Z"
    }
   },
   "outputs": [],
   "source": [
    "path_to_open  = '/data/Projects/OpenCloseIHB/opened_ihb.npy'\n",
    "path_to_close = '/data/Projects/OpenCloseIHB/closed_ihb.npy'\n",
    "\n",
    "# единичный сплит\n",
    "X, y, groups = load_data(path_to_open, path_to_close)\n",
    "X_train, X_test, y_train, y_test, train_groups, test_groups = get_random_split(X, y,groups, test_size=0.15)"
   ]
  },
  {
   "cell_type": "code",
   "execution_count": 4,
   "id": "9497f443",
   "metadata": {},
   "outputs": [
    {
     "name": "stdout",
     "output_type": "stream",
     "text": [
      "Accuracy on train: 1.0\n",
      "Accuracy on test: 0.885\n"
     ]
    },
    {
     "data": {
      "image/png": "[encoded data removed]",
      "text/plain": [
       "<Figure size 640x480 with 1 Axes>"
      ]
     },
     "metadata": {},
     "output_type": "display_data"
    }
   ],
   "source": [
    "# обучение на одном сплите\n",
    "\n",
    "logreg = LogRegPCA()\n",
    "logreg.model.set_params(**{'C': 0.002})\n",
    "logreg.pca.set_params(**{'n_components': 0.95})\n",
    "\n",
    "train_acc = logreg.model_training(X_train, y_train)\n",
    "conf_mat, acc = logreg.model_testing(X_test, y_test)\n",
    "\n",
    "sns.heatmap(conf_mat, annot=conf_mat, cbar=False)\n",
    "plt.xlabel('Predicted')\n",
    "plt.ylabel('True');"
   ]
  },
  {
   "cell_type": "code",
   "execution_count": 4,
   "id": "a754bc9b0eed028c",
   "metadata": {
    "ExecuteTime": {
     "end_time": "2024-07-27T06:22:47.386835Z",
     "start_time": "2024-07-27T06:22:46.553796Z"
    }
   },
   "outputs": [],
   "source": [
    "# аугментация шумом\n",
    "X_aug, y_aug, groups_aug, is_real_data = augment_data(augmentaion_noise_jittering, \n",
    "                                                      X, y, groups, n_aug=1)\n",
    "\n",
    "\n",
    "# сплит данных по разным сидам\n",
    "random_seeds = [42, 123, 456]\n",
    "\n",
    "# аугментированные + реальные\n",
    "splits_with_seeds_aug = get_multiple_splits(X_aug, y_aug, groups_aug, \n",
    "                                            is_real_data, test_size=0.2, \n",
    "                                            random_seeds=random_seeds)\n",
    "\n",
    "# реальные\n",
    "splits_with_seeds = get_multiple_splits(X, y, groups, \n",
    "                                        None, test_size=0.2, \n",
    "                                        random_seeds=random_seeds)"
   ]
  },
  {
   "cell_type": "code",
   "execution_count": null,
   "id": "607ba6b8bfbd9faa",
   "metadata": {},
   "outputs": [],
   "source": [
    "# для каждого сплита обучаем модель 5 раз\n",
    "\n",
    "folds = 5\n",
    "logreg_metrics_real = np.zeros((len(random_seeds), folds))\n",
    "\n",
    "for en, (X_train, X_test, y_train, y_test, train_groups, test_groups) in enumerate(splits_with_seeds):\n",
    "    print(f'------ Seed: {random_seeds[en]} ------')\n",
    "\n",
    "    for fold in range(folds):\n",
    "        print(f'Fold: {fold}')\n",
    "        \n",
    "        logreg = LogRegPCA()\n",
    "        train_acc = logreg.model_training(X_train, y_train)\n",
    "        logreg_metrics_real[en, fold] = logreg.model_testing(X_test, y_test)[1]\n"
   ]
  },
  {
   "cell_type": "code",
   "execution_count": null,
   "id": "b5342fbb",
   "metadata": {},
   "outputs": [],
   "source": [
    "folds = 5\n",
    "logreg_metrics_aug = np.zeros((len(random_seeds), folds))\n",
    "\n",
    "for en, (X_train, X_test, y_train, y_test, train_groups, test_groups) in enumerate(splits_with_seeds_aug):\n",
    "    print(f'------ Seed: {random_seeds[en]} ------')\n",
    "    for fold in range(folds):\n",
    "        print(f'Fold: {fold}')\n",
    "        logreg = LogRegPCA()\n",
    "        train_acc = logreg.model_training(X_train, y_train)\n",
    "        logreg_metrics_aug[en, fold] = logreg.model_testing(X_test, y_test)[1]\n"
   ]
  },
  {
   "cell_type": "code",
   "execution_count": null,
   "id": "034d374d",
   "metadata": {},
   "outputs": [],
   "source": [
    "# без PCA \n",
    "\n",
    "folds = 5\n",
    "logreg_metrics_no_pca = np.zeros((len(random_seeds), folds))\n",
    "\n",
    "for en, (X_train, X_test, y_train, y_test, train_groups, test_groups) in enumerate(splits_with_seeds):\n",
    "    print(f'------ Seed: {random_seeds[en]} ------')\n",
    "\n",
    "    for fold in range(folds):\n",
    "        print(f'Fold: {fold}')\n",
    "        \n",
    "        logreg = LogRegPCA(pca=False)\n",
    "        train_acc = logreg.model_training(X_train, y_train)\n",
    "        logreg_metrics_no_pca[en, fold] = logreg.model_testing(X_test, y_test)[1]\n"
   ]
  },
  {
   "cell_type": "code",
   "execution_count": 11,
   "id": "58ae4079",
   "metadata": {},
   "outputs": [
    {
     "data": {
      "image/png": "[encoded data removed]",
      "text/plain": [
       "<Figure size 640x480 with 1 Axes>"
      ]
     },
     "metadata": {},
     "output_type": "display_data"
    }
   ],
   "source": [
    "plt.boxplot([logreg_metrics_real.flatten(), \n",
    "             logreg_metrics_aug.flatten(),\n",
    "             logreg_metrics_no_pca.flatten()],\n",
    "            tick_labels=['Real data', 'Real+augmented', 'Real, no PCA']);"
   ]
  }
 ],
 "metadata": {
  "kernelspec": {
   "display_name": "Python 3",
   "language": "python",
   "name": "python3"
  },
  "language_info": {
   "codemirror_mode": {
    "name": "ipython",
    "version": 3
   },
   "file_extension": ".py",
   "mimetype": "text/x-python",
   "name": "python",
   "nbconvert_exporter": "python",
   "pygments_lexer": "ipython3",
   "version": "3.10.12"
  }
 },
 "nbformat": 4,
 "nbformat_minor": 5
}
